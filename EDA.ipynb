{
 "cells": [
  {
   "cell_type": "code",
   "execution_count": 34,
   "id": "fb1edc3f-6f50-4087-a7b4-a86d57e64b30",
   "metadata": {},
   "outputs": [],
   "source": [
    "import pandas as pd\n",
    "import numpy as np"
   ]
  },
  {
   "cell_type": "markdown",
   "id": "ca497ee4-d7ed-4fcf-8df2-b7f0da3e6a58",
   "metadata": {},
   "source": [
    "## Reading files"
   ]
  },
  {
   "cell_type": "code",
   "execution_count": 35,
   "id": "0a389ee7-7fa2-4523-95ea-1f45ae4ac6f8",
   "metadata": {},
   "outputs": [],
   "source": [
    "wh2018 = pd.read_csv('2018_v2.csv')\n",
    "wh2019 = pd.read_csv('2019_v2.csv')"
   ]
  },
  {
   "cell_type": "markdown",
   "id": "72f1cf5f-7cc4-4dfa-9dc8-51105a51d652",
   "metadata": {},
   "source": [
    "Adding extra column to identify year of population"
   ]
  },
  {
   "cell_type": "code",
   "execution_count": 36,
   "id": "ec21e6da-422e-4a8e-8aac-e601e30b89dd",
   "metadata": {},
   "outputs": [],
   "source": [
    "wh2018['year'] = 2018\n",
    "wh2019['year'] = 2019"
   ]
  },
  {
   "cell_type": "markdown",
   "id": "e3fdff02-1732-477b-a78b-f97aea07b013",
   "metadata": {},
   "source": [
    "Union of three files"
   ]
  },
  {
   "cell_type": "code",
   "execution_count": 37,
   "id": "ab6d0ee5-911c-4d6f-8889-058467e7015a",
   "metadata": {},
   "outputs": [],
   "source": [
    "wh = pd.concat([wh2018,wh2019])"
   ]
  },
  {
   "cell_type": "code",
   "execution_count": 38,
   "id": "54d33b78-43e1-4904-92b0-485e8d2abefa",
   "metadata": {},
   "outputs": [
    {
     "data": {
      "text/plain": [
       "Index(['Overall rank', 'Country or region', 'Score', 'GDP per capita',\n",
       "       'Social support', 'Healthy life expectancy',\n",
       "       'Freedom to make life choices', 'Generosity',\n",
       "       'Perceptions of corruption', 'year'],\n",
       "      dtype='object')"
      ]
     },
     "execution_count": 38,
     "metadata": {},
     "output_type": "execute_result"
    }
   ],
   "source": [
    "wh.columns"
   ]
  },
  {
   "cell_type": "markdown",
   "id": "fe6f96ee-b677-442e-b1f7-8d2617200937",
   "metadata": {},
   "source": [
    "## Ejercicios\n",
    "\n",
    "1. Partiendo de Wh, realice un analisis de valores nulos. que porcentaje de valores nulos se encuentran en cada columna por anio. presente el analisis en un dataframe"
   ]
  },
  {
   "cell_type": "markdown",
   "id": "fac6f6e3-8f5a-48bb-9a06-632757c857be",
   "metadata": {},
   "source": [
    "Ejemplo:"
   ]
  },
  {
   "cell_type": "code",
   "execution_count": 39,
   "id": "748a8b4c-85aa-4cff-96a3-61bcf2a8e466",
   "metadata": {},
   "outputs": [
    {
     "data": {
      "text/html": [
       "<div>\n",
       "<style scoped>\n",
       "    .dataframe tbody tr th:only-of-type {\n",
       "        vertical-align: middle;\n",
       "    }\n",
       "\n",
       "    .dataframe tbody tr th {\n",
       "        vertical-align: top;\n",
       "    }\n",
       "\n",
       "    .dataframe thead th {\n",
       "        text-align: right;\n",
       "    }\n",
       "</style>\n",
       "<table border=\"1\" class=\"dataframe\">\n",
       "  <thead>\n",
       "    <tr style=\"text-align: right;\">\n",
       "      <th></th>\n",
       "      <th>year</th>\n",
       "      <th>column</th>\n",
       "      <th>percentage.of.nans</th>\n",
       "    </tr>\n",
       "  </thead>\n",
       "  <tbody>\n",
       "    <tr>\n",
       "      <th>0</th>\n",
       "      <td>2017</td>\n",
       "      <td>Happiness.Rank</td>\n",
       "      <td>0.2</td>\n",
       "    </tr>\n",
       "    <tr>\n",
       "      <th>1</th>\n",
       "      <td>2017</td>\n",
       "      <td>Whisker.low</td>\n",
       "      <td>0.2</td>\n",
       "    </tr>\n",
       "  </tbody>\n",
       "</table>\n",
       "</div>"
      ],
      "text/plain": [
       "   year          column  percentage.of.nans\n",
       "0  2017  Happiness.Rank                 0.2\n",
       "1  2017     Whisker.low                 0.2"
      ]
     },
     "execution_count": 39,
     "metadata": {},
     "output_type": "execute_result"
    }
   ],
   "source": [
    "pd.DataFrame({\n",
    "    \"year\": [2017,2017]\n",
    "    , \"column\" : [\"Happiness.Rank\",\"Whisker.low\"]\n",
    "    , \"percentage.of.nans\" : [0.2,0.2]\n",
    "})"
   ]
  },
  {
   "cell_type": "markdown",
   "id": "ad19d0f9-2980-4411-9166-3760db06212f",
   "metadata": {},
   "source": [
    "### resolucion ejercicio uno"
   ]
  },
  {
   "cell_type": "code",
   "execution_count": 40,
   "id": "e99d9148-31d5-4564-be5e-aef7a61765ef",
   "metadata": {},
   "outputs": [
    {
     "data": {
      "text/plain": [
       "Overall rank                    0.00\n",
       "Country or region               0.00\n",
       "Score                           0.19\n",
       "GDP per capita                  0.12\n",
       "Social support                  0.16\n",
       "Healthy life expectancy         0.26\n",
       "Freedom to make life choices    0.23\n",
       "Generosity                      0.21\n",
       "Perceptions of corruption       0.13\n",
       "year                            0.00\n",
       "dtype: float64"
      ]
     },
     "execution_count": 40,
     "metadata": {},
     "output_type": "execute_result"
    }
   ],
   "source": [
    "dataFrame = pd.DataFrame(wh)\n",
    "datos_nulos = dataFrame.isna().sum()\n",
    "datos_nulos / 100"
   ]
  },
  {
   "cell_type": "markdown",
   "id": "629103c7",
   "metadata": {},
   "source": [
    "se le asigno la variable dataframe = pandas (pddataframe) cree la variable datos nulos la iguale a dataframe utilice el metodo isna  con sum para hacer el recorrido y la suma en la tabla  luego dividi dicha suma entre 100 para obtener el porcentaje "
   ]
  },
  {
   "cell_type": "markdown",
   "id": "76ceb543-1b4f-4a5f-9584-27259f6f4bb7",
   "metadata": {},
   "source": [
    "2. partiendo de Wh, por año muestre un resumen de todas las columnas.\n",
    "\n",
    "nota: aunque solo tenemos tres años, que pasaria si en nuestro dataframe tenemos 20 años? resuelva su ejercicio lo mas dinamico que se pueda\n",
    "\n",
    "### resolucion ejercicio dos"
   ]
  },
  {
   "cell_type": "markdown",
   "id": "32f228c9",
   "metadata": {},
   "source": []
  },
  {
   "cell_type": "code",
   "execution_count": 41,
   "id": "e6fb519a-7711-4c0f-ac76-0482a5c6c339",
   "metadata": {},
   "outputs": [
    {
     "data": {
      "text/html": [
       "<div>\n",
       "<style scoped>\n",
       "    .dataframe tbody tr th:only-of-type {\n",
       "        vertical-align: middle;\n",
       "    }\n",
       "\n",
       "    .dataframe tbody tr th {\n",
       "        vertical-align: top;\n",
       "    }\n",
       "\n",
       "    .dataframe thead tr th {\n",
       "        text-align: left;\n",
       "    }\n",
       "</style>\n",
       "<table border=\"1\" class=\"dataframe\">\n",
       "  <thead>\n",
       "    <tr>\n",
       "      <th></th>\n",
       "      <th>year</th>\n",
       "      <th>Overall rank</th>\n",
       "      <th>Score</th>\n",
       "      <th>Country or region</th>\n",
       "      <th>GDP per capita</th>\n",
       "      <th>Social support</th>\n",
       "      <th>Healthy life expectancy</th>\n",
       "      <th>Freedom to make life choices</th>\n",
       "      <th>Generosity</th>\n",
       "      <th>Perceptions of corruption</th>\n",
       "    </tr>\n",
       "    <tr>\n",
       "      <th></th>\n",
       "      <th></th>\n",
       "      <th>count</th>\n",
       "      <th>count</th>\n",
       "      <th>count</th>\n",
       "      <th>count</th>\n",
       "      <th>count</th>\n",
       "      <th>count</th>\n",
       "      <th>count</th>\n",
       "      <th>count</th>\n",
       "      <th>count</th>\n",
       "    </tr>\n",
       "  </thead>\n",
       "  <tbody>\n",
       "    <tr>\n",
       "      <th>0</th>\n",
       "      <td>2018</td>\n",
       "      <td>156</td>\n",
       "      <td>151</td>\n",
       "      <td>156</td>\n",
       "      <td>147</td>\n",
       "      <td>141</td>\n",
       "      <td>144</td>\n",
       "      <td>144</td>\n",
       "      <td>139</td>\n",
       "      <td>149</td>\n",
       "    </tr>\n",
       "    <tr>\n",
       "      <th>1</th>\n",
       "      <td>2019</td>\n",
       "      <td>156</td>\n",
       "      <td>142</td>\n",
       "      <td>156</td>\n",
       "      <td>153</td>\n",
       "      <td>155</td>\n",
       "      <td>142</td>\n",
       "      <td>145</td>\n",
       "      <td>152</td>\n",
       "      <td>150</td>\n",
       "    </tr>\n",
       "  </tbody>\n",
       "</table>\n",
       "</div>"
      ],
      "text/plain": [
       "   year Overall rank Score Country or region GDP per capita Social support  \\\n",
       "               count count             count          count          count   \n",
       "0  2018          156   151               156            147            141   \n",
       "1  2019          156   142               156            153            155   \n",
       "\n",
       "  Healthy life expectancy Freedom to make life choices Generosity  \\\n",
       "                    count                        count      count   \n",
       "0                     144                          144        139   \n",
       "1                     142                          145        152   \n",
       "\n",
       "  Perceptions of corruption  \n",
       "                      count  \n",
       "0                       149  \n",
       "1                       150  "
      ]
     },
     "execution_count": 41,
     "metadata": {},
     "output_type": "execute_result"
    }
   ],
   "source": [
    "dataFrame = pd.DataFrame(wh)\n",
    "allcolums = dataFrame.groupby([\"year\"], as_index=False).agg({\"Overall rank\": [\"count\"] ,\"Score\": [\"count\"],\"Country or region\": [\"count\"],  \"GDP per capita\": [\"count\"],\n",
    "       \"Social support\": [\"count\"] ,  \"Healthy life expectancy\": [\"count\"],\n",
    "       \"Freedom to make life choices\": [\"count\"], \"Generosity\": [\"count\"],\n",
    "       \"Perceptions of corruption\": [\"count\"] })\n",
    "\n",
    "\n",
    "allcolums\n",
    "\n"
   ]
  },
  {
   "cell_type": "markdown",
   "id": "fadb5429",
   "metadata": {},
   "source": [
    "se hizo un conteo de los elementos en la variable allcolums del dataframe despues los agrupe con un groupby y los mande a imprimir "
   ]
  },
  {
   "cell_type": "markdown",
   "id": "fec3987d-17f1-4553-a9c1-db67800b3cdb",
   "metadata": {},
   "source": [
    "3. partiendo de Wh, remplace los valores NaN de las columnas por su mean, el mean debe de ser calculado por año para ser mas exacto\n",
    "\n",
    "### resolucion ejercicio tres"
   ]
  },
  {
   "cell_type": "code",
   "execution_count": null,
   "id": "a28b5bc7-b8b2-4d82-b669-51275100eb6a",
   "metadata": {},
   "outputs": [],
   "source": []
  },
  {
   "cell_type": "markdown",
   "id": "8259629a-e170-4783-8935-b20bbb261d10",
   "metadata": {},
   "source": [
    "4. Partiendo de Wh limpio, para cada metrica por pais, muestra la diferencia del ultimo valor encontrado contra el primero. "
   ]
  },
  {
   "cell_type": "markdown",
   "id": "baee1d13-6755-443f-8961-d53b44a9dca8",
   "metadata": {},
   "source": [
    "Ejemplo:"
   ]
  },
  {
   "cell_type": "code",
   "execution_count": 42,
   "id": "9c197bcd-8603-426c-a4ce-4ddab6e50d49",
   "metadata": {},
   "outputs": [
    {
     "data": {
      "text/html": [
       "<div>\n",
       "<style scoped>\n",
       "    .dataframe tbody tr th:only-of-type {\n",
       "        vertical-align: middle;\n",
       "    }\n",
       "\n",
       "    .dataframe tbody tr th {\n",
       "        vertical-align: top;\n",
       "    }\n",
       "\n",
       "    .dataframe thead th {\n",
       "        text-align: right;\n",
       "    }\n",
       "</style>\n",
       "<table border=\"1\" class=\"dataframe\">\n",
       "  <thead>\n",
       "    <tr style=\"text-align: right;\">\n",
       "      <th></th>\n",
       "      <th>Overall rank</th>\n",
       "      <th>Country or region</th>\n",
       "      <th>Score</th>\n",
       "      <th>GDP per capita</th>\n",
       "      <th>Social support</th>\n",
       "      <th>Healthy life expectancy</th>\n",
       "      <th>Freedom to make life choices</th>\n",
       "      <th>Generosity</th>\n",
       "      <th>Perceptions of corruption</th>\n",
       "      <th>year</th>\n",
       "    </tr>\n",
       "  </thead>\n",
       "  <tbody>\n",
       "    <tr>\n",
       "      <th>4</th>\n",
       "      <td>5</td>\n",
       "      <td>Switzerland</td>\n",
       "      <td>7.487</td>\n",
       "      <td>1.420</td>\n",
       "      <td>1.549</td>\n",
       "      <td>0.927</td>\n",
       "      <td>0.660</td>\n",
       "      <td>0.256</td>\n",
       "      <td>0.357</td>\n",
       "      <td>2018</td>\n",
       "    </tr>\n",
       "    <tr>\n",
       "      <th>5</th>\n",
       "      <td>6</td>\n",
       "      <td>Switzerland</td>\n",
       "      <td>7.480</td>\n",
       "      <td>1.452</td>\n",
       "      <td>1.526</td>\n",
       "      <td>1.052</td>\n",
       "      <td>0.572</td>\n",
       "      <td>0.263</td>\n",
       "      <td>0.343</td>\n",
       "      <td>2019</td>\n",
       "    </tr>\n",
       "  </tbody>\n",
       "</table>\n",
       "</div>"
      ],
      "text/plain": [
       "   Overall rank Country or region  Score  GDP per capita  Social support  \\\n",
       "4             5       Switzerland  7.487           1.420           1.549   \n",
       "5             6       Switzerland  7.480           1.452           1.526   \n",
       "\n",
       "   Healthy life expectancy  Freedom to make life choices  Generosity  \\\n",
       "4                    0.927                         0.660       0.256   \n",
       "5                    1.052                         0.572       0.263   \n",
       "\n",
       "   Perceptions of corruption  year  \n",
       "4                      0.357  2018  \n",
       "5                      0.343  2019  "
      ]
     },
     "execution_count": 42,
     "metadata": {},
     "output_type": "execute_result"
    }
   ],
   "source": [
    "wh.loc[ wh['Country or region'] == 'Switzerland' , : ]"
   ]
  },
  {
   "cell_type": "markdown",
   "id": "8a322dc9-ee13-403f-b6b0-e0be59e19cad",
   "metadata": {},
   "source": [
    "Como se puede observar para Switzerland en Score la diferencia seria 7.480 - 7.487\n",
    "\n",
    "Claramente en su solucion la columna año se debera de eliminar\n",
    "\n",
    "### resolucion ejercicio cuatro"
   ]
  },
  {
   "cell_type": "code",
   "execution_count": null,
   "id": "51892ff8-4f76-4d08-aaec-ad8960ebb1d2",
   "metadata": {},
   "outputs": [],
   "source": []
  }
 ],
 "metadata": {
  "kernelspec": {
   "display_name": "Python 3",
   "language": "python",
   "name": "python3"
  },
  "language_info": {
   "codemirror_mode": {
    "name": "ipython",
    "version": 3
   },
   "file_extension": ".py",
   "mimetype": "text/x-python",
   "name": "python",
   "nbconvert_exporter": "python",
   "pygments_lexer": "ipython3",
   "version": "3.8.8"
  }
 },
 "nbformat": 4,
 "nbformat_minor": 5
}
